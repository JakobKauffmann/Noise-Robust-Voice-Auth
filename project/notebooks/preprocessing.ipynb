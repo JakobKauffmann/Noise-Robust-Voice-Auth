{
 "cells": [
  {
   "cell_type": "code",
   "execution_count": null,
   "id": "preprocessing-cell",
   "metadata": {},
   "outputs": [],
   "source": [
    "!python ../scripts/python/preprocessing.py sample_input.wav sample_output.wav 0.01"
   ]
  }
 ],
 "metadata": {
  "kernelspec": {
   "display_name": "Python 3",
   "language": "python",
   "name": "python3"
  }
 },
 "nbformat": 4,
 "nbformat_minor": 5
}