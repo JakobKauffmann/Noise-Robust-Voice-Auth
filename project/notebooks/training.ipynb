{
 "cells": [
  {
   "cell_type": "code",
   "execution_count": null,
   "id": "training-cell",
   "metadata": {},
   "outputs": [],
   "source": [
    "!python ../scripts/python/training.py"
   ]
  }
 ],
 "metadata": {
  "kernelspec": {
   "display_name": "Python 3",
   "language": "python",
   "name": "python3"
  }
 },
 "nbformat": 4,
 "nbformat_minor": 5
}