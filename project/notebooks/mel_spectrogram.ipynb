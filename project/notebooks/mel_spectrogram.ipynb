{
 "cells": [
  {
   "cell_type": "code",
   "execution_count": null,
   "id": "mel-spectrogram-julia",
   "metadata": {},
   "outputs": [],
   "source": [
    "!julia ../scripts/julia/mel_spectrogram.jl sample_input.wav mel_spectrogram.csv"
   ]
  }
 ],
 "metadata": {
  "kernelspec": {
   "display_name": "Python 3",
   "language": "python",
   "name": "python3"
  }
 },
 "nbformat": 4,
 "nbformat_minor": 5
}
