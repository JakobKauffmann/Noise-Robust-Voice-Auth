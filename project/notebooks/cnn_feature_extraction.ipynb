{
 "cells": [
  {
   "cell_type": "code",
   "execution_count": null,
   "id": "cnn-feature-julia",
   "metadata": {},
   "outputs": [],
   "source": [
    "!julia ../scripts/julia/cnn_feature_extraction.jl mel_spectrogram.csv"
   ]
  }
 ],
 "metadata": {
  "kernelspec": {
   "display_name": "Python 3",
   "language": "python",
   "name": "python3"
  }
 },
 "nbformat": 4,
 "nbformat_minor": 5
}