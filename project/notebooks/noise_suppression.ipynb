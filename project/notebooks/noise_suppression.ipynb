{
 "cells": [
  {
   "cell_type": "code",
   "execution_count": null,
   "id": "noise-suppression-cell",
   "metadata": {},
   "outputs": [],
   "source": [
    "!python ../scripts/python/noise_suppression.py sample_noisy.wav sample_suppressed.wav"
   ]
  }
 ],
 "metadata": {
  "kernelspec": {
   "display_name": "Python 3",
   "language": "python",
   "name": "python3"
  }
 },
 "nbformat": 4,
 "nbformat_minor": 5
}